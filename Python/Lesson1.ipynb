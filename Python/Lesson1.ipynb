{
 "cells": [
  {
   "cell_type": "markdown",
   "metadata": {},
   "source": [
    "git clone - операция клонирования репозитория из гитхаба на локальный хост\n",
    "star - поднимает в поиске, добавляет в отдельную вкладку избранное в гит хабе\n",
    "fork - операция кланирования чужого репозитория на личный аккаунт гит хаба, для дальнешего pull request\n",
    "pull request - это процедура переноса изменения из личного репозитория в форкнутый репозиторий\n",
    "commit - фиксация изменений, они локальные, для публикации нужен push\n",
    "push - отдать изменения в github\n",
    "git pull - принять домашку, изменения"
   ]
  },
  {
   "cell_type": "markdown",
   "metadata": {},
   "source": [
    "Flake8 - линтер\n",
    "Линтер - инструмент анализа и поиска ошибка, согласно pep8\n",
    "Black (alt + shift + F) - инструмент автоформатирования кода, согласно линтеру"
   ]
  },
  {
   "cell_type": "markdown",
   "metadata": {},
   "source": [
    "python -m venv venv # создание виртуального окружения, последнее слово venv согласно соглашению название папки\n",
    "venv\\sc+tab\\a+tab"
   ]
  },
  {
   "cell_type": "code",
   "execution_count": 1,
   "metadata": {},
   "outputs": [
    {
     "data": {
      "text/plain": [
       "2"
      ]
     },
     "execution_count": 1,
     "metadata": {},
     "output_type": "execute_result"
    }
   ],
   "source": [
    "1+1"
   ]
  },
  {
   "cell_type": "markdown",
   "metadata": {},
   "source": [
    "модуль - библиотеки, зависимости, питовские библиотеки (файл с расшириние .py)\n",
    "пакеты - набор модулей"
   ]
  },
  {
   "cell_type": "markdown",
   "metadata": {},
   "source": [
    "pip - это package manager, установка обновление пакетов, удаление и выгрузка зависимости"
   ]
  },
  {
   "cell_type": "code",
   "execution_count": 1,
   "metadata": {},
   "outputs": [],
   "source": [
    "!pip freeze > requirements.txt # создание файла зависимостей(модулей) \n",
    "# что такое файл зависимостей ?  "
   ]
  },
  {
   "cell_type": "code",
   "execution_count": null,
   "metadata": {},
   "outputs": [],
   "source": [
    "!pip install -r requirements.txt # установка файла зависимостей(модулей) "
   ]
  }
 ],
 "metadata": {
  "kernelspec": {
   "display_name": "venv",
   "language": "python",
   "name": "python3"
  },
  "language_info": {
   "codemirror_mode": {
    "name": "ipython",
    "version": 3
   },
   "file_extension": ".py",
   "mimetype": "text/x-python",
   "name": "python",
   "nbconvert_exporter": "python",
   "pygments_lexer": "ipython3",
   "version": "3.9.7"
  },
  "orig_nbformat": 4
 },
 "nbformat": 4,
 "nbformat_minor": 2
}
