{
 "cells": [
  {
   "cell_type": "markdown",
   "metadata": {},
   "source": [
    "\"Поколение Python\": курс для начинающих\n",
    "Решение задач"
   ]
  },
  {
   "cell_type": "code",
   "execution_count": null,
   "metadata": {},
   "outputs": [],
   "source": [
    "# 2.2 step 11\n",
    "name = input()\n",
    "print(\"Привет,\", name)"
   ]
  },
  {
   "cell_type": "code",
   "execution_count": null,
   "metadata": {},
   "outputs": [],
   "source": [
    "# 2.2 step 12\n",
    "name = input()\n",
    "print(name, \"- чемпион!\")"
   ]
  },
  {
   "cell_type": "code",
   "execution_count": null,
   "metadata": {},
   "outputs": [],
   "source": [
    "# 2.2 step 13\n",
    "a = input()\n",
    "print(a)\n",
    "b = input()\n",
    "print(b)\n",
    "c = input()\n",
    "print(c)"
   ]
  },
  {
   "cell_type": "code",
   "execution_count": null,
   "metadata": {},
   "outputs": [],
   "source": [
    "# 2.2 step 14\n",
    "a = input()\n",
    "b = input()\n",
    "c = input()\n",
    "print(c)\n",
    "print(b)\n",
    "print(a)"
   ]
  },
  {
   "cell_type": "code",
   "execution_count": null,
   "metadata": {},
   "outputs": [],
   "source": [
    "# 2.3 step 5\n",
    "print(\"I\", \"like\", \"Python\", sep=\"***\")"
   ]
  },
  {
   "cell_type": "code",
   "execution_count": null,
   "metadata": {},
   "outputs": [],
   "source": [
    "# 2.3 step 6\n",
    "a = input()\n",
    "b = input()\n",
    "c = input()\n",
    "d = input()\n",
    "print(b,c,d, sep=a)  # сепаратором можно использовать переменную"
   ]
  },
  {
   "cell_type": "code",
   "execution_count": null,
   "metadata": {},
   "outputs": [],
   "source": [
    "# 2.3 step 7\n",
    "a = input()\n",
    "print(\"Привет,\", a, end=\"!\")"
   ]
  },
  {
   "cell_type": "code",
   "execution_count": null,
   "metadata": {},
   "outputs": [],
   "source": [
    "# 2.4 step 5\n",
    "a = int(input())\n",
    "print(a)\n",
    "print(a + 1)\n",
    "print(a + 2)"
   ]
  },
  {
   "cell_type": "code",
   "execution_count": null,
   "metadata": {},
   "outputs": [],
   "source": [
    "# 2.4 step 6\n",
    "a = int(input())\n",
    "b = int(input())\n",
    "c = int(input())\n",
    "print(a + b + c)"
   ]
  },
  {
   "cell_type": "code",
   "execution_count": null,
   "metadata": {},
   "outputs": [],
   "source": [
    "# 2.4 step 7\n",
    "a = int(input())\n",
    "print(\"Объем =\", a*a*a)\n",
    "print(\"Площадь полной поверхности =\", 6*a*a)"
   ]
  },
  {
   "cell_type": "code",
   "execution_count": null,
   "metadata": {},
   "outputs": [],
   "source": [
    "# 2.4 step 8\n",
    "a = int(input())\n",
    "b = int(input())\n",
    "print(3 * (a+b)**3 + 275 * b**2 - 127 * a - 41)"
   ]
  },
  {
   "cell_type": "code",
   "execution_count": null,
   "metadata": {},
   "outputs": [],
   "source": [
    "# 2.4 step 9\n",
    "a = int(input())\n",
    "print(\"Следующее за числом\", a, \"число:\", a + 1)\n",
    "print(\"Для числа\", a, \"предыдущее число:\", a - 1)"
   ]
  },
  {
   "cell_type": "code",
   "execution_count": null,
   "metadata": {},
   "outputs": [],
   "source": [
    "# 2.4 step 10\n",
    "screen = int(input())\n",
    "pc = int(input())\n",
    "keyboard = int(input())\n",
    "mouse = int(input())\n",
    "print(3 * (screen + pc + keyboard + mouse))"
   ]
  },
  {
   "cell_type": "code",
   "execution_count": null,
   "metadata": {},
   "outputs": [],
   "source": [
    "# 2.4 step 11\n",
    "a = int(input())\n",
    "b = int(input())\n",
    "print (a, \"+\", b, \"=\", a + b)\n",
    "print (a, \"-\", b, \"=\", a - b)\n",
    "print (a, \"*\", b, \"=\", a * b)"
   ]
  },
  {
   "cell_type": "code",
   "execution_count": null,
   "metadata": {},
   "outputs": [],
   "source": [
    "# 2.4 step 12\n",
    "a = int(input())\n",
    "d = int(input())\n",
    "n = int(input())\n",
    "print(a + d * (n - 1))"
   ]
  },
  {
   "cell_type": "code",
   "execution_count": null,
   "metadata": {},
   "outputs": [],
   "source": [
    "# 2.4 step 13\n",
    "x = int(input())\n",
    "print(x, 2 * x, 3 * x, 4 * x, 5 * x, sep=\"---\")"
   ]
  },
  {
   "cell_type": "code",
   "execution_count": null,
   "metadata": {},
   "outputs": [],
   "source": [
    "# 2.5 step 6\n",
    "b = int(input())\n",
    "q = int(input())\n",
    "n = int(input())\n",
    "print(b * q**(n-1))"
   ]
  },
  {
   "cell_type": "code",
   "execution_count": null,
   "metadata": {},
   "outputs": [],
   "source": [
    "# 2.5 step 7\n",
    "a = int(input())\n",
    "print(a // 100)"
   ]
  },
  {
   "cell_type": "code",
   "execution_count": null,
   "metadata": {},
   "outputs": [],
   "source": [
    "# 2.5 step 8\n",
    "school = int(input())\n",
    "orange = int(input())\n",
    "print(orange // school)\n",
    "print(orange % school)"
   ]
  },
  {
   "cell_type": "code",
   "execution_count": null,
   "metadata": {},
   "outputs": [],
   "source": [
    "# 2.5 step 9\n",
    "n = int(input())\n",
    "print((n + 1) // 2)"
   ]
  },
  {
   "cell_type": "code",
   "execution_count": null,
   "metadata": {},
   "outputs": [],
   "source": [
    "# 2.5 step 11\n",
    "minutes = int(input())\n",
    "hours = minutes // 60\n",
    "minutes_left = minutes % 60\n",
    "print(minutes, \"мин - это\", hours, \"час\", minutes_left,\"минут.\")"
   ]
  },
  {
   "cell_type": "code",
   "execution_count": null,
   "metadata": {},
   "outputs": [],
   "source": [
    "# 4.1 step 4\n",
    "password = str(input())\n",
    "repeat = str(input())\n",
    "\n",
    "if password == repeat:\n",
    "    print(\"Пароль принят\")\n",
    "else:\n",
    "    print(\"Пароль не принят\")"
   ]
  },
  {
   "cell_type": "code",
   "execution_count": null,
   "metadata": {},
   "outputs": [],
   "source": [
    "# 4.1 step 5\n",
    "a = int(input())\n",
    "\n",
    "if a % 2 == 0:\n",
    "    print(\"Четное\")\n",
    "else:\n",
    "    print(\"Нечетное\")"
   ]
  },
  {
   "cell_type": "code",
   "execution_count": null,
   "metadata": {},
   "outputs": [],
   "source": [
    "# 4.1 step 6\n",
    "a = int(input())\n",
    "num1 = a // 1000\n",
    "num2 = a // 100 % 10\n",
    "num3 = a % 100 // 10\n",
    "num4 = a % 10\n",
    "\n",
    "if num1 + num4 == num2 - num3:\n",
    "    print(\"ДА\")\n",
    "else:\n",
    "    print(\"НЕТ\")"
   ]
  },
  {
   "cell_type": "code",
   "execution_count": null,
   "metadata": {},
   "outputs": [],
   "source": [
    "# 4.1 step 7\n",
    "age = int(input())\n",
    "\n",
    "if age >= 18:\n",
    "    print(\"Доступ разрешен\")\n",
    "else:\n",
    "    print(\"Доступ запрещен\")"
   ]
  },
  {
   "cell_type": "code",
   "execution_count": null,
   "metadata": {},
   "outputs": [],
   "source": [
    "# 4.1 step 8\n",
    "a = int(input())\n",
    "b = int(input())\n",
    "c = int(input())\n",
    "step = c - b\n",
    "\n",
    "if a + step == b and b + step == c:\n",
    "    print(\"YES\")\n",
    "else:\n",
    "    print(\"NO\")"
   ]
  },
  {
   "cell_type": "code",
   "execution_count": null,
   "metadata": {},
   "outputs": [],
   "source": [
    "# 4.1 step 9\n",
    "a, b = int(input()), int(input())\n",
    "\n",
    "if a < b:\n",
    "    print(a)\n",
    "if b < a:\n",
    "    print(b)"
   ]
  },
  {
   "cell_type": "code",
   "execution_count": null,
   "metadata": {},
   "outputs": [],
   "source": [
    "a,b,c,d = int(input()), int(input()), int(input()), int(input())\n",
    "\n",
    "if a < b: a < c: a < d\n",
    "print(a)\n",
    "if b < a and b < c and b < d:\n",
    "    print(b)\n",
    "if c < b and c < a and c < d:\n",
    "    print(c)\n",
    "if d < b and d < c and d< a:\n",
    "    print(d)"
   ]
  },
  {
   "cell_type": "code",
   "execution_count": null,
   "metadata": {},
   "outputs": [],
   "source": [
    "a = int(input())\n",
    "b = int(input())\n",
    "\n",
    "print(\"Квадрат суммы\", a, \"и\", b, \"равен\", (a + b) ** 2)\n",
    "print(\"Сумма квадратов\", a, \"и\", b, \"равна\", a ** 2 + b ** 2)"
   ]
  },
  {
   "cell_type": "code",
   "execution_count": null,
   "metadata": {},
   "outputs": [],
   "source": [
    "# 4.1 step 11 ??? код работает, но решение не проходит\n",
    "year = int(input(\"Введите возраст: \"))\n",
    "\n",
    "if 0 < year <= 13:\n",
    "    print(\"детство\")\n",
    "elif 14 <= year <= 24: \n",
    "    print(\"молодость\")\n",
    "elif 25 <= year <= 59:\n",
    "    print(\"зрелость\")\n",
    "else:\n",
    "    print(\"старость\")"
   ]
  },
  {
   "cell_type": "code",
   "execution_count": null,
   "metadata": {},
   "outputs": [],
   "source": [
    "# 4.1 step 12\n",
    "a, b, c = int(input()), int(input()), int(input())\n",
    "sum = 0\n",
    "if a > 0:\n",
    "    sum += a\n",
    "if b > 0:\n",
    "    sum += b\n",
    "if c > 0:\n",
    "    sum += c\n",
    "print(sum)"
   ]
  },
  {
   "cell_type": "code",
   "execution_count": null,
   "metadata": {},
   "outputs": [],
   "source": [
    "# 4.2 step 8\n",
    "x = int(input())\n",
    "\n",
    "if x > -1 and x < 17:\n",
    "    print(\"Принадлежит\")\n",
    "else:\n",
    "    print(\"Не принадлежит\")"
   ]
  },
  {
   "cell_type": "code",
   "execution_count": null,
   "metadata": {},
   "outputs": [],
   "source": [
    "# 4.2 step 9\n",
    "x = int(input())\n",
    "\n",
    "if x <= -3 or x >= 7:\n",
    "    print(\"Принадлежит\")\n",
    "else:\n",
    "    print(\"Не принадлежит\")"
   ]
  },
  {
   "cell_type": "code",
   "execution_count": null,
   "metadata": {},
   "outputs": [],
   "source": [
    "# 4.2 step 10\n",
    "x = int(input())\n",
    "\n",
    "if -30 < x <=2 or 7 < x <= 25:\n",
    "    print(\"Принадлежит\")\n",
    "else:\n",
    "    print(\"Не принадлежит\")\n"
   ]
  },
  {
   "cell_type": "code",
   "execution_count": null,
   "metadata": {},
   "outputs": [],
   "source": [
    "# 4.2 step 11\n",
    "if 1000 <= x <= 9999 and (x % 7 ==0 or x % 17 == 0):\n",
    "    print('YES')\n",
    "else:\n",
    "    print('NO')\n"
   ]
  },
  {
   "cell_type": "code",
   "execution_count": null,
   "metadata": {},
   "outputs": [],
   "source": [
    "# 4.2 step 12\n",
    "a, b, c = int(input()), int(input()), int(input())\n",
    "\n",
    "if a + b > c and a + c > b and b + c > a:\n",
    "    print(\"YES\")\n",
    "else:\n",
    "    print(\"NO\")\n"
   ]
  },
  {
   "cell_type": "code",
   "execution_count": null,
   "metadata": {},
   "outputs": [],
   "source": [
    "# 4.2 step 13\n",
    "year = int(input())\n",
    "\n",
    "if (year % 4 == 0 and year % 100 != 0) or year % 400 == 0 :\n",
    "    print(\"YES\")\n",
    "else:\n",
    "    print(\"NO\")\n"
   ]
  },
  {
   "cell_type": "code",
   "execution_count": null,
   "metadata": {},
   "outputs": [],
   "source": [
    "# 4.2 step 14\n",
    "x1, y1, x2, y2 = int(input()), int(input()), int(input()), int(input())\n",
    "\n",
    "if x1 == x2 or y1 == y2:\n",
    "    print(\"YES\")\n",
    "else:\n",
    "    print(\"NO\")\n"
   ]
  },
  {
   "cell_type": "code",
   "execution_count": null,
   "metadata": {},
   "outputs": [],
   "source": [
    "# 4.2 step 15\n",
    "x1, y1, x2, y2 = int(input()), int(input()), int(input()), int(input())\n",
    "sumx = x2 - x1\n",
    "sumy = y2 -y1 \n",
    "if -1 <= sumx <= 1 and -1 <= sumy <= 1:\n",
    "    print(\"YES\")\n",
    "else:\n",
    "    print(\"NO\")"
   ]
  },
  {
   "cell_type": "code",
   "execution_count": null,
   "metadata": {},
   "outputs": [],
   "source": [
    "# 4.3 step 3\n",
    "zum, flesh = int(input()), int(input())\n",
    "\n",
    "if zum > flesh:\n",
    "    print(\"NO\")\n",
    "elif flesh > zum:\n",
    "    print(\"YES\")\n",
    "else: \n",
    "    print(\"Don't know\")"
   ]
  },
  {
   "cell_type": "code",
   "execution_count": null,
   "metadata": {},
   "outputs": [],
   "source": [
    "# 4.3 step 4\n",
    "a, b, c = int(input()), int(input()), int(input())\n",
    "\n",
    "if a == b == c:\n",
    "    print(\"Равносторонний\")\n",
    "elif a == b or b == c or a == c:\n",
    "    print(\"Равнобедренный\")\n",
    "else: \n",
    "    print(\"Разносторонний\")"
   ]
  },
  {
   "cell_type": "code",
   "execution_count": null,
   "metadata": {},
   "outputs": [],
   "source": [
    "# 2.5 step 13\n",
    "x = int(input())\n",
    "\n",
    "a = x // 100\n",
    "b = x % 10\n",
    "c = x % 100 // 10\n",
    "\n",
    "print(\"Сумма цифр =\", a + b + c)\n",
    "print(\"Произведение цифр =\", a * b * c)"
   ]
  },
  {
   "cell_type": "code",
   "execution_count": null,
   "metadata": {},
   "outputs": [],
   "source": [
    "# 2.5 step 14\n",
    "x = int(input())\n",
    "\n",
    "a = x // 100\n",
    "b = x % 100 // 10\n",
    "c = x % 10\n",
    "\n",
    "print(a,b,c, sep=\"\")\n",
    "print(a,c,b, sep=\"\")\n",
    "print(b,a,c, sep=\"\")\n",
    "print(b,c,a, sep=\"\")\n",
    "print(c,a,b, sep=\"\")\n",
    "print(c,b,a, sep=\"\")"
   ]
  },
  {
   "cell_type": "code",
   "execution_count": null,
   "metadata": {},
   "outputs": [],
   "source": [
    "# 2.5 step 15\n",
    "x = int(input())\n",
    "\n",
    "a = x // 1000\n",
    "b = x % 1000 // 100\n",
    "c = x % 100 // 10\n",
    "d = x % 10\n",
    "\n",
    "print(\"Цифра в позиции тысяч равна\", a)\n",
    "print(\"Цифра в позиции сотен равна\", b)\n",
    "print(\"Цифра в позиции десятков равна\", c)\n",
    "print(\"Цифра в позиции единиц равна\", d)"
   ]
  },
  {
   "cell_type": "code",
   "execution_count": 4,
   "metadata": {},
   "outputs": [
    {
     "name": "stdout",
     "output_type": "stream",
     "text": [
      "28\n"
     ]
    }
   ],
   "source": [
    "# 4.3 step 8\n",
    "manth = int(input())\n",
    "\n",
    "if manth == 2:\n",
    "    print(\"28\")\n",
    "elif manth == 4 or manth == 6 or manth == 9 or manth == 11:\n",
    "    print(\"30\")\n",
    "else:\n",
    "    print(\"31\")"
   ]
  },
  {
   "cell_type": "code",
   "execution_count": null,
   "metadata": {},
   "outputs": [],
   "source": [
    "# 4.3 step 9\n",
    "x = int(input())\n",
    "\n",
    "if x == 0:\n",
    "    print(\"зеленый\")\n",
    "elif 1 <= x <= 10 and (x % 2 == 0):\n",
    "     print(\"черный\")\n",
    "elif 1 <= x <= 10 and (x % 2 != 0):\n",
    "     print(\"красный\")\n",
    "elif 11 <= x <= 18 and (x % 2 == 0):\n",
    "    print(\"красный\")\n",
    "elif 11 <= x <= 18 and (x % 2 != 0):\n",
    "    print(\"черный\")   \n",
    "elif 19 <= x <= 28 and (x % 2 == 0):\n",
    "    print(\"черный\")\n",
    "elif 19 <= x <= 28 and (x % 2 != 0):\n",
    "    print(\"красный\")  \n",
    "elif 29 <= x <= 36 and (x % 2 != 0):\n",
    "    print(\"черный\")\n",
    "elif 29 <= x <= 36 and (x % 2 == 0):\n",
    "    print(\"красный\")\n",
    "else:\n",
    "    print(\"ошибка ввода\")\n"
   ]
  },
  {
   "cell_type": "code",
   "execution_count": 6,
   "metadata": {},
   "outputs": [
    {
     "name": "stdout",
     "output_type": "stream",
     "text": [
      "-100 -51\n"
     ]
    }
   ],
   "source": [
    "# 4.3 step 10\n",
    "a1 = int(input())\n",
    "b1 = int(input())\n",
    "a2 = int(input())\n",
    "b2 = int(input())\n",
    "\n",
    "if a2 < a1:\n",
    "    a1, b1, a2, b2 = a2, b2, a1, b1 \n",
    "if a2 > b1: \n",
    "    print(\"пустое множество\")\n",
    "elif a2 == b1:\n",
    "    print(a2)\n",
    "else:\n",
    "    if b1 < b2:\n",
    "        print(a2, b1)\n",
    "    else:\n",
    "        print(a2, b2)"
   ]
  },
  {
   "cell_type": "code",
   "execution_count": null,
   "metadata": {},
   "outputs": [],
   "source": [
    "# 5.1 step 1\n",
    "x = int(input())\n",
    "\n",
    "if x % 2 == 0 and x % 100 == 0:\n",
    "    print(\"YES\")\n",
    "else: \n",
    "    print(\"NO\")"
   ]
  },
  {
   "cell_type": "code",
   "execution_count": null,
   "metadata": {},
   "outputs": [],
   "source": [
    "# 5.1 step 2\n",
    "x1, y1, x2, y2 = int(input()), int(input()), int(input()), int(input())\n",
    "\n",
    "if (x1 + y1 + x2 + y2) % 2 == 0:\n",
    "    print(\"YES\")\n",
    "else: \n",
    "    print(\"NO\")"
   ]
  },
  {
   "cell_type": "code",
   "execution_count": null,
   "metadata": {},
   "outputs": [],
   "source": [
    "# 5.1 step 3\n",
    "age = int(input())\n",
    "sex = input()\n",
    "\n",
    "if 10 <= age <= 15 and sex == \"f\":\n",
    "    print(\"YES\")\n",
    "else:\n",
    "    print(\"NO\")\n"
   ]
  },
  {
   "cell_type": "code",
   "execution_count": null,
   "metadata": {},
   "outputs": [],
   "source": [
    "# 5.1 step 4\n",
    "num = int(input())\n",
    "\n",
    "if num == 1:\n",
    "    print(\"I\")\n",
    "elif num == 2:\n",
    "    print(\"II\")\n",
    "elif num == 3:\n",
    "    print(\"III\")\n",
    "elif num == 4:\n",
    "    print(\"IV\")\n",
    "elif num == 5:\n",
    "    print(\"V\")\n",
    "elif num == 6:\n",
    "    print(\"VI\")\n",
    "elif num == 7:\n",
    "    print(\"VII\")\n",
    "elif num == 8:\n",
    "    print(\"VIII\")\n",
    "elif num == 9:\n",
    "    print(\"IX\")\n",
    "elif num == 10:\n",
    "    print(\"X\")\n",
    "else:\n",
    "    print(\"ошибка\")"
   ]
  },
  {
   "cell_type": "code",
   "execution_count": null,
   "metadata": {},
   "outputs": [],
   "source": [
    "# 5.1 step 5\n",
    "num = int(input())\n",
    "\n",
    "if num % 2 != 0:\n",
    "    print(\"YES\")\n",
    "elif num % 2 == 0 and 2 <= num <= 5:\n",
    "    print(\"NO\")\n",
    "elif num % 2 == 0 and 6 <= num <= 20:\n",
    "    print(\"YES\")\n",
    "else:\n",
    "    if num % 2 == 0 and num > 20:\n",
    "        print(\"NO\")"
   ]
  },
  {
   "cell_type": "code",
   "execution_count": null,
   "metadata": {},
   "outputs": [],
   "source": [
    "# 5.1 step 6\n",
    "x1, y1, x2, y2 = int(input()), int(input()), int(input()), int(input())\n",
    "\n",
    "if (x1 - y1 == x2 - y2) or (x1 + y1 == x2 + y2):\n",
    "    print(\"YES\")\n",
    "else: \n",
    "    print(\"NO\")"
   ]
  },
  {
   "cell_type": "code",
   "execution_count": null,
   "metadata": {},
   "outputs": [],
   "source": [
    "# 5.1 step 7\n",
    "x1, y1, x2, y2 = int(input()), int(input()), int(input()), int(input())\n",
    "\n",
    "if (x1 - x2 == 1 or x1 - x2 == -1) and (y1 - y2 == 2 or y1 - y2 == -2):\n",
    "    print(\"YES\")\n",
    "elif (x1 - x2 == 2 or x1 - x2 == -2) and (y1 - y2 == 1 or y1 - y2 == -1):\n",
    "    print(\"YES\")\n",
    "else: \n",
    "    print(\"NO\")"
   ]
  },
  {
   "cell_type": "code",
   "execution_count": null,
   "metadata": {},
   "outputs": [],
   "source": [
    "# 5.1 step 8\n",
    "a = int(input())\n",
    "b = int(input())\n",
    "c = int(input())\n",
    "d = int(input())\n",
    "if a == c or b == d or a - c == b - d or a + b == c + d:\n",
    "    print(\"YES\")\n",
    "else:\n",
    "    print(\"NO\")"
   ]
  },
  {
   "cell_type": "code",
   "execution_count": null,
   "metadata": {},
   "outputs": [],
   "source": [
    "# 6.1 step 3\n",
    "a = float(input())\n",
    "b = float(input())\n",
    "\n",
    "print(0.5 * a * b)"
   ]
  },
  {
   "cell_type": "code",
   "execution_count": null,
   "metadata": {},
   "outputs": [],
   "source": [
    "# 6.1 step 4\n",
    "s = float(input())\n",
    "v1 = float(input())\n",
    "v2 = float(input())\n",
    "\n",
    "print(s / (v1 + v2))"
   ]
  },
  {
   "cell_type": "code",
   "execution_count": null,
   "metadata": {},
   "outputs": [],
   "source": [
    "# 6.1 step 5\n",
    "x = float(input())\n",
    "\n",
    "if x == 0:\n",
    "    print(\"Обратного числа не существует\")\n",
    "else:\n",
    "    print(1 / x)"
   ]
  },
  {
   "cell_type": "code",
   "execution_count": null,
   "metadata": {},
   "outputs": [],
   "source": [
    "# 6.1 step 6\n",
    "x = float(input())\n",
    "print((5 / 9) * (x - 32))"
   ]
  },
  {
   "cell_type": "code",
   "execution_count": null,
   "metadata": {},
   "outputs": [],
   "source": [
    "# 6.1 step 7\n",
    "dogsage = int(input())\n",
    "\n",
    "if 2 < dogsage:\n",
    "    print(21 + (dogsage - 2) * 4)\n",
    "else:\n",
    "    print(dogsage * 10.5)"
   ]
  },
  {
   "cell_type": "code",
   "execution_count": null,
   "metadata": {},
   "outputs": [],
   "source": [
    "# 6.1 step 8\n",
    "x = float(input())\n",
    "\n",
    "print(int(x * 10) % 10)"
   ]
  },
  {
   "cell_type": "code",
   "execution_count": null,
   "metadata": {},
   "outputs": [],
   "source": [
    "# 6.1 step 9\n",
    "x = float(input())\n",
    "y = int(x)\n",
    "print(x - y)"
   ]
  },
  {
   "cell_type": "code",
   "execution_count": null,
   "metadata": {},
   "outputs": [],
   "source": [
    "# 6.1 step 13 Сортировка трёх 🌶️\n",
    "a = int(input())\n",
    "b = int(input())\n",
    "c = int(input())\n",
    "print(max(a, b, c))\n",
    "print((a + b + c) - (min(a, b, c) + max (a, b, c)))\n",
    "print(min(a, b, c))"
   ]
  },
  {
   "cell_type": "code",
   "execution_count": null,
   "metadata": {},
   "outputs": [],
   "source": [
    "# 6.1 step 14 Интересное число\n",
    "x = int(input())\n",
    "a = x // 100\n",
    "b = x // 10 % 10\n",
    "c = x % 10\n",
    "d = max(a, b, c) - min(a, b, c)\n",
    "\n",
    "if d == c:\n",
    "    print(\"Число интересное\")\n",
    "elif d == a:\n",
    "    print(\"Число интересное\")\n",
    "elif d == b:\n",
    "    print(\"Число интересное\")\n",
    "else:\n",
    "    print(\"Число неинтересное\")"
   ]
  },
  {
   "cell_type": "code",
   "execution_count": null,
   "metadata": {},
   "outputs": [],
   "source": [
    "# 6.1 step 15 Абсолютная сумма\n",
    "a, b, c, d, e = float(input()), float(input()), float(input()), float(input()), float(input())\n",
    "print(abs(a) + abs(b) + abs(c) + abs(d) + abs(e))"
   ]
  },
  {
   "cell_type": "code",
   "execution_count": null,
   "metadata": {},
   "outputs": [],
   "source": [
    "# 6.1 step 16 Манхэттенское расстояние\n",
    "a, b, c, d = int(input()), int(input()), int(input()), int(input())\n",
    "print(abs(a - c) + abs(b - d))"
   ]
  },
  {
   "cell_type": "code",
   "execution_count": null,
   "metadata": {},
   "outputs": [],
   "source": [
    "# 6.2 step 7 Футбольная команда\n",
    "teamname = input()\n",
    "x = len(teamname)\n",
    "print(\"Футбольная команда\", teamname, \"имеет длину\", x, \"символов\")"
   ]
  },
  {
   "cell_type": "code",
   "execution_count": null,
   "metadata": {},
   "outputs": [],
   "source": [
    "# 6.2 step 9 Арифметические строки\n",
    "a, b, c = input(), input(), input()\n",
    "a = len(a)\n",
    "b = len(b)\n",
    "c = len(c)\n",
    "if ((2 * b - a - c) * (2 * c - a - b) * (2 * a - b - c)) == 0:\n",
    "    print(\"YES\")\n",
    "else:\n",
    "    print(\"NO\")"
   ]
  },
  {
   "cell_type": "code",
   "execution_count": null,
   "metadata": {},
   "outputs": [],
   "source": [
    "# 6.2 step 12 Цвет настроения синий\n",
    "x = input()\n",
    "\n",
    "if \"синий\" in x:\n",
    "    print(\"YES\")\n",
    "else:\n",
    "    print(\"NO\")"
   ]
  },
  {
   "cell_type": "code",
   "execution_count": null,
   "metadata": {},
   "outputs": [],
   "source": [
    "# 6.2 step 13 Отдыхаем ли?\n",
    "x = input()\n",
    "if \"суббота\" in x or \"воскресенье\" in x:\n",
    "    print(\"YES\")\n",
    "else:\n",
    "    print(\"NO\")"
   ]
  },
  {
   "cell_type": "code",
   "execution_count": null,
   "metadata": {},
   "outputs": [],
   "source": [
    "# 6.2 step 14 Корректный email\n",
    "mail = input()\n",
    "\n",
    "if \"@\" in mail and \".\" in mail:\n",
    "    print(\"YES\")\n",
    "else:\n",
    "    print(\"NO\")"
   ]
  },
  {
   "cell_type": "code",
   "execution_count": null,
   "metadata": {},
   "outputs": [],
   "source": [
    "# 6.3 step 2 Евклидово расстояние\n",
    "import math\n",
    "from math import sqrt, pow\n",
    "\n",
    "x1 = float(input())\n",
    "y1 = float(input())\n",
    "x2 = float(input())\n",
    "y2 = float(input())\n",
    "\n",
    "num_1 = pow((x1 - x2), 2)\n",
    "num_2 = pow((y1 - y2), 2)\n",
    "num_3 = sqrt(num_1 + num_2)\n",
    "print(num_3)"
   ]
  },
  {
   "cell_type": "code",
   "execution_count": null,
   "metadata": {},
   "outputs": [],
   "source": [
    "# 6.3 step 3 Площадь и длина\n",
    "import math\n",
    "\n",
    "r = float(input())\n",
    "\n",
    "s = math.pi * (r**2)\n",
    "c = 2 * math.pi * r\n",
    "print(s)\n",
    "print(c)"
   ]
  },
  {
   "cell_type": "code",
   "execution_count": null,
   "metadata": {},
   "outputs": [],
   "source": [
    "# 6.3 step 4 Средние значения\n",
    "import math\n",
    "a, b = float(input()), float(input())\n",
    "arif = (a + b) / 2\n",
    "geom = math.sqrt(a * b)\n",
    "harm = (2 * a * b) / (a + b)\n",
    "kvadr = math.sqrt((a**2 + b**2) / 2)\n",
    "\n",
    "print(arif)\n",
    "print(geom)\n",
    "print(harm)\n",
    "print(kvadr)"
   ]
  },
  {
   "cell_type": "code",
   "execution_count": null,
   "metadata": {},
   "outputs": [],
   "source": [
    "# 6.3 step 5 Тригонометрическое выражение\n",
    "import math\n",
    "x = float(input())\n",
    "r = math.radians(x)\n",
    "\n",
    "print(math.sin(r) + math.cos(r) + math.tan(r)**2)"
   ]
  },
  {
   "cell_type": "code",
   "execution_count": null,
   "metadata": {},
   "outputs": [],
   "source": [
    "# 6.3 step 6 Пол и потолок\n",
    "import math\n",
    "x = float(input())\n",
    "print(math.ceil(x) + math.floor(x))"
   ]
  },
  {
   "cell_type": "code",
   "execution_count": null,
   "metadata": {},
   "outputs": [],
   "source": [
    "# 6.3 step 8 Правильный многоугольник\n",
    "import math\n",
    "from math import tan, pi\n",
    "n = int(input())\n",
    "a = float(input())\n",
    "\n",
    "top = n * a**2\n",
    "bot = 4 * tan(pi / n)\n",
    "\n",
    "print(top / bot)"
   ]
  },
  {
   "cell_type": "code",
   "execution_count": null,
   "metadata": {},
   "outputs": [],
   "source": [
    "# 7.1 step 2 Python is awesome\n",
    "for i in range(10):\n",
    "    print(\"Python is awesome!\")"
   ]
  },
  {
   "cell_type": "code",
   "execution_count": null,
   "metadata": {},
   "outputs": [],
   "source": [
    "# 7.1 step 3 Повторяй за мной 1\n",
    "stroke = str(input())\n",
    "times = int(input())\n",
    "\n",
    "for i in range(times):\n",
    "    print(stroke)"
   ]
  },
  {
   "cell_type": "code",
   "execution_count": null,
   "metadata": {},
   "outputs": [],
   "source": [
    "# 7.1 step 4 Последовательность символов\n",
    "for i in range(6):\n",
    "    print(\"AAA\")\n",
    "for i in range(5):\n",
    "    print(\"BBBB\")\n",
    "print(\"E\")\n",
    "for i in range(9):\n",
    "    print(\"TTTTT\")\n",
    "print(\"G\")"
   ]
  },
  {
   "cell_type": "code",
   "execution_count": null,
   "metadata": {},
   "outputs": [],
   "source": [
    "# 7.1 step 8 Повторяй за мной 2\n",
    "stroke = input()\n",
    "for i in range(10):\n",
    "    print(i, stroke)"
   ]
  },
  {
   "cell_type": "code",
   "execution_count": null,
   "metadata": {},
   "outputs": [],
   "source": [
    "# 7.1 step 8 Квадрат числа\n",
    "n = int(input())\n",
    "for i in range(n + 1):\n",
    "    print(\"Квадрат числа\", i, \"равен\", i**2)"
   ]
  },
  {
   "cell_type": "code",
   "execution_count": null,
   "metadata": {},
   "outputs": [],
   "source": [
    "# 7.1 step 9 Звездный треугольник\n",
    "n = int(input())\n",
    "if n >= 2:\n",
    "    for i in range(n):\n",
    "        print((n-i)*\"*\")"
   ]
  },
  {
   "cell_type": "code",
   "execution_count": null,
   "metadata": {},
   "outputs": [],
   "source": [
    "# 7.1 step 10 Популяция\n",
    "m = int(input())\n",
    "p = int(input())\n",
    "n = int(input())\n",
    "\n",
    "for i in range(n):\n",
    "    print(i + 1, m * (p / 100 + 1) ** i)"
   ]
  },
  {
   "cell_type": "code",
   "execution_count": null,
   "metadata": {},
   "outputs": [],
   "source": [
    "# 7.2 step 7 Последовательность чисел 1\n",
    "m, n = int(input()), int(input())\n",
    "for i in range(m, n + 1):\n",
    "    print(i)"
   ]
  },
  {
   "cell_type": "code",
   "execution_count": null,
   "metadata": {},
   "outputs": [],
   "source": [
    "# 7.2 step 8 Последовательность чисел 2\n",
    "m, n = int(input()), int(input())\n",
    "if m < n:\n",
    "    for i in range(m, n + 1):\n",
    "        print(i)\n",
    "else:\n",
    "    for i in range(m, n - 1, -1):\n",
    "        print(i)"
   ]
  },
  {
   "cell_type": "code",
   "execution_count": null,
   "metadata": {},
   "outputs": [],
   "source": [
    "# 7.2 step 11 Таблица умножения\n",
    "n = int(input())\n",
    "for i in range(1,11):\n",
    "        print(n, \"x\", i * +1, \"=\", n * i)"
   ]
  },
  {
   "cell_type": "code",
   "execution_count": null,
   "metadata": {},
   "outputs": [],
   "source": [
    "# 7.3 step 5 Таблица умноженияКоличество чисел\n",
    "a, b = int(input()), int(input())\n",
    "\n",
    "counter = 0\n",
    "for i in range(a, b + 1):\n",
    "    if i**3 % 10 == 4 or i**3 % 10 == 9:\n",
    "        counter += 1\n",
    "print(counter)"
   ]
  },
  {
   "cell_type": "code",
   "execution_count": null,
   "metadata": {},
   "outputs": [],
   "source": [
    "# 7.3 step 6 Сумма чисел\n",
    "n = int(input())\n",
    "\n",
    "counter = 0\n",
    "for i in range(n):\n",
    "    num = int(input())\n",
    "    counter += num\n",
    "print(counter)"
   ]
  },
  {
   "cell_type": "code",
   "execution_count": null,
   "metadata": {},
   "outputs": [],
   "source": [
    "# 7.3 step 9 Без нулей\n",
    "total = 1\n",
    "for i in range(1,11):\n",
    "    num = int(input())\n",
    "    if num !=0:\n",
    "        total *= num\n",
    "print(total)"
   ]
  },
  {
   "cell_type": "code",
   "execution_count": null,
   "metadata": {},
   "outputs": [],
   "source": [
    "# 7.3 step 10 Сумма делителей\n",
    "n = int(input())\n",
    "\n",
    "counter = 0\n",
    "for i in range(1, n + 1):\n",
    "    if n % i == 0:\n",
    "        counter += i\n",
    "print(counter)"
   ]
  },
  {
   "cell_type": "code",
   "execution_count": null,
   "metadata": {},
   "outputs": [],
   "source": [
    "# 7.4 step 8 До КОНЦА 1\n",
    "text = input()\n",
    "while text != \"КОНЕЦ\":\n",
    "    print(text)\n",
    "    text = input()"
   ]
  },
  {
   "cell_type": "code",
   "execution_count": null,
   "metadata": {},
   "outputs": [],
   "source": [
    "# 7.4 step 9 До КОНЦА 2\n",
    "text = input()\n",
    "\n",
    "while text != \"КОНЕЦ\" and text != \"конец\":\n",
    "    print(text)\n",
    "    text = input()"
   ]
  },
  {
   "cell_type": "code",
   "execution_count": null,
   "metadata": {},
   "outputs": [],
   "source": [
    "# 7.4 step 10 Количество членов\n",
    "text = input()\n",
    "\n",
    "counter = 0\n",
    "while text != \"стоп\" and text != \"хватит\" and text != \"достаточно\":\n",
    "    counter += 1\n",
    "    text = input()\n",
    "print(counter)"
   ]
  },
  {
   "cell_type": "code",
   "execution_count": null,
   "metadata": {},
   "outputs": [],
   "source": [
    "# 7.4 step 11 Пока делимся\n",
    "x = int(input())\n",
    "\n",
    "while x % 7 == 0:\n",
    "    print(x)\n",
    "    x = int(input())"
   ]
  },
  {
   "cell_type": "code",
   "execution_count": null,
   "metadata": {},
   "outputs": [],
   "source": [
    "# 7.4 step 12 Сумма чисел\n",
    "x = int(input())\n",
    "counter = 0\n",
    "while x >= 0:\n",
    "    counter += x\n",
    "    x = int(input())\n",
    "print(counter)"
   ]
  },
  {
   "cell_type": "code",
   "execution_count": null,
   "metadata": {},
   "outputs": [],
   "source": [
    "# 7.4 step 13 Количество пятерок\n",
    "x = int(input())\n",
    "\n",
    "counter = 0\n",
    "while 0 < x <= 5:\n",
    "    if x == 5:\n",
    "        counter += 1\n",
    "    x = int(input())\n",
    "print(counter)"
   ]
  },
  {
   "cell_type": "code",
   "execution_count": null,
   "metadata": {},
   "outputs": [],
   "source": [
    "# 7.4 step 14 Ведьмаку заплатите чеканной монетой\n",
    "x = int(input())\n",
    "\n",
    "counter = 0\n",
    "while x >= 25:\n",
    "    counter += 1\n",
    "    x = x-25\n",
    "while x >= 10:\n",
    "    counter += 1\n",
    "    x = x-10\n",
    "while x >= 5:\n",
    "    counter += 1\n",
    "    x = x-5\n",
    "while x >= 1:\n",
    "    counter += 1\n",
    "    x = x-1\n",
    "print(counter)"
   ]
  },
  {
   "cell_type": "code",
   "execution_count": null,
   "metadata": {},
   "outputs": [],
   "source": [
    "# 7.5 step 4 Обратный порядок 1\n",
    "x = int(input())\n",
    "\n",
    "while x != 0:\n",
    "    minus = x % 10\n",
    "    print(minus)\n",
    "    x = x // 10"
   ]
  },
  {
   "cell_type": "code",
   "execution_count": null,
   "metadata": {},
   "outputs": [],
   "source": [
    "# 7.5 step 5 Обратный порядок 2\n",
    "x = int(input())\n",
    "\n",
    "while x != 0:\n",
    "    minus = x % 10\n",
    "    print(minus, end=\"\")\n",
    "    x = x // 10"
   ]
  },
  {
   "cell_type": "code",
   "execution_count": null,
   "metadata": {},
   "outputs": [],
   "source": [
    "# 7.5 step 7 Все вместе\n",
    "x = int(input())\n",
    "\n",
    "last_num = x % 10\n",
    "counter_plus = 0\n",
    "counter_numbers = 0\n",
    "counter_multiply = 1\n",
    "\n",
    "while x != 0:\n",
    "    first_num = x % 10\n",
    "    counter_plus += first_num\n",
    "    counter_numbers += 1\n",
    "    counter_multiply *= first_num\n",
    "    x = x // 10\n",
    "\n",
    "print(counter_plus, counter_numbers,counter_multiply, counter_plus / counter_numbers, first_num, first_num + last_num, sep=\"\\n\")"
   ]
  },
  {
   "cell_type": "code",
   "execution_count": null,
   "metadata": {},
   "outputs": [],
   "source": [
    "# 7.6 step 8 Наименьший делитель\n",
    "n = int(input())\n",
    "\n",
    "for i in range(2, n + 1):\n",
    "    if n % i == 0:\n",
    "        break\n",
    "print(i)"
   ]
  },
  {
   "cell_type": "code",
   "execution_count": null,
   "metadata": {},
   "outputs": [],
   "source": [
    "# 7.2 step 9 Последовательность чисел 3\n",
    "m, n = int(input()), int(input())\n",
    "\n",
    "for i in range(m % 2 - 1 + m, n - 1, -2,):\n",
    "    print(i)"
   ]
  },
  {
   "cell_type": "code",
   "execution_count": null,
   "metadata": {},
   "outputs": [],
   "source": [
    "# 7.2 step 10 Последовательность чисел 4\n",
    "m, n = int(input()), int(input())\n",
    "for i in range(m, n + 1):\n",
    "    if i % 17 == 0 or i % 10 == 9 or i % 15 == 0: \n",
    "        print(i)"
   ]
  },
  {
   "cell_type": "code",
   "execution_count": null,
   "metadata": {},
   "outputs": [],
   "source": [
    "# 7.3 step 10 Сумма чисел 2\n",
    "a = int(input())\n",
    "\n",
    "counter = 0\n",
    "for i in range(0, a + 1):\n",
    "    if i**2 % 10 == 2 or i**2 % 10 == 5 or i**2 % 10 == 8:\n",
    "        counter = counter + i\n",
    "print(counter)"
   ]
  },
  {
   "cell_type": "code",
   "execution_count": null,
   "metadata": {},
   "outputs": [],
   "source": [
    "# 7.5 step 7 max и min\n",
    "n = int(input())\n",
    "largest = -1\n",
    "smallest = 10\n",
    "while n != 0:\n",
    "    last_num = n % 10\n",
    "    if last_num > largest:\n",
    "        largest = last_num\n",
    "    if last_num < smallest:\n",
    "        smallest = last_num\n",
    "    n //= 10\n",
    "print(\"Максимальная цифра равна\", largest)\n",
    "print(\"Минимальная цифра равна\", smallest)"
   ]
  },
  {
   "cell_type": "code",
   "execution_count": null,
   "metadata": {},
   "outputs": [],
   "source": [
    "# 7.5 step 8 Вторая цифра\n",
    "\n",
    "n = int(input())\n",
    "\n",
    "while n >= 10:\n",
    "    num = n % 10\n",
    "    n //= 10   \n",
    "print(num)"
   ]
  },
  {
   "cell_type": "code",
   "execution_count": null,
   "metadata": {},
   "outputs": [],
   "source": [
    "# 7.3 step 12 Асимптотическое приближение\n",
    "\n",
    "import math\n",
    "\n",
    "n = int(input())\n",
    "\n",
    "counter = 0\n",
    "for i in range(1, n + 1):\n",
    "    asim = 1 / i\n",
    "    counter += asim\n",
    "print(counter - math.log(n)) "
   ]
  },
  {
   "cell_type": "code",
   "execution_count": null,
   "metadata": {},
   "outputs": [],
   "source": [
    "# 7.8 step 5 Таблица-1\n",
    "n = int(input())\n",
    "\n",
    "for i in range(1):\n",
    "    for j in range(n):\n",
    "        print(n, n, n)\n",
    "    print()"
   ]
  },
  {
   "cell_type": "code",
   "execution_count": null,
   "metadata": {},
   "outputs": [],
   "source": [
    "# 7.8 step 6 Таблица-3\n",
    "n = int(input())\n",
    "\n",
    "for i in range(n):\n",
    "    for j in range(5):\n",
    "        print(i + 1, end=\" \")\n",
    "    print()"
   ]
  },
  {
   "cell_type": "code",
   "execution_count": null,
   "metadata": {},
   "outputs": [],
   "source": [
    "#  13.1 Звездный прямоугольник 1\n",
    "\n",
    "def draw_box():\n",
    "    print(\"*\"* 10)\n",
    "    for i in range(12):\n",
    "        print(\"*        *\")\n",
    "    print(\"*\"* 10)\n",
    "# основная программа\n",
    "draw_box()  # вызов функции"
   ]
  },
  {
   "cell_type": "code",
   "execution_count": null,
   "metadata": {},
   "outputs": [],
   "source": [
    "#  13.2 Звездный прямоугольник 1\n",
    "def draw_triangle():\n",
    "    for i in range(1,10 + 1):\n",
    "        print(\"*\"*i)\n",
    "# основная программа\n",
    "draw_triangle()  # вызов функции"
   ]
  },
  {
   "cell_type": "code",
   "execution_count": null,
   "metadata": {},
   "outputs": [],
   "source": [
    "# 7.8 step 7 Таблица-3\n",
    "n = int(input())\n",
    "\n",
    "for i in range(1, n + 1):\n",
    "    for j in range(1, 10):\n",
    "        print(i,\"+\", j,\"=\", i + j, end=\"\\n\")\n",
    "    print()"
   ]
  },
  {
   "cell_type": "code",
   "execution_count": null,
   "metadata": {},
   "outputs": [],
   "source": [
    "# 7.8 step 8 Численный треугольник 1\n",
    "n = int(input())\n",
    "\n",
    "for i in range(1, n + 1):\n",
    "    for j in range(i):\n",
    "        print(i*str(i))\n",
    "        break"
   ]
  },
  {
   "cell_type": "code",
   "execution_count": null,
   "metadata": {},
   "outputs": [],
   "source": [
    "# 7.7 step 8 Ревью кода-6\n",
    "n = int(input())\n",
    "product = 1\n",
    "while n != 0:\n",
    "    digit = n % 10\n",
    "    product *= digit\n",
    "    n //= 10\n",
    "print(product)"
   ]
  },
  {
   "cell_type": "code",
   "execution_count": null,
   "metadata": {},
   "outputs": [],
   "source": [
    "# 9.1 step 7 В столбик 1\n",
    "text = input()\n",
    "for i in range(len(text)):\n",
    "    if i % 2 == 0:\n",
    "        print(text[i]) "
   ]
  },
  {
   "cell_type": "code",
   "execution_count": null,
   "metadata": {},
   "outputs": [],
   "source": [
    "# 9.1 step 8 В столбик 2\n",
    "text = input()\n",
    "for i in range(1,len(text) + 1):    \n",
    "    print(text[-i])   "
   ]
  },
  {
   "cell_type": "code",
   "execution_count": null,
   "metadata": {},
   "outputs": [],
   "source": [
    "# 9.1 step 9 ФИО\n",
    "lastname, name, middlename = input(), input(), input()\n",
    "\n",
    "print(name[0], lastname[0], middlename[0], sep =\"\")"
   ]
  },
  {
   "cell_type": "code",
   "execution_count": null,
   "metadata": {},
   "outputs": [],
   "source": [
    "# 9.1 step 10 Цифра 1\n",
    "stroke = input()\n",
    "counter = 0\n",
    "for i in range(0, len(stroke)):\n",
    "    counter += int(stroke[i])\n",
    "print(counter)"
   ]
  },
  {
   "cell_type": "code",
   "execution_count": null,
   "metadata": {},
   "outputs": [],
   "source": [
    "# 9.1 step 11 Сколько раз?\n",
    "onestroke = input()\n",
    "\n",
    "counter_plus = 0\n",
    "counter_multiply = 0\n",
    "for i in range(0, len(onestroke)):\n",
    "    if onestroke[i] == \"+\":\n",
    "        counter_plus += 1\n",
    "    if onestroke[i] == \"*\":\n",
    "        counter_multiply += 1\n",
    "print(f\"Символ + встречается {counter_plus} раз\")\n",
    "print(f\"Символ * встречается {counter_multiply} раз\")"
   ]
  },
  {
   "cell_type": "code",
   "execution_count": null,
   "metadata": {},
   "outputs": [],
   "source": [
    "# 9.2 step 11 Палиндром\n",
    "text = input()\n",
    "\n",
    "if text[:] == text[::-1]:\n",
    "    print(\"YES\")\n",
    "else:\n",
    "    print(\"NO\")"
   ]
  },
  {
   "cell_type": "code",
   "execution_count": null,
   "metadata": {},
   "outputs": [],
   "source": [
    "# 9.2 step 12 Делаем срезы 1\n",
    "one_string = input()\n",
    "  \n",
    "    \n",
    "print(len(one_string))\n",
    "print(one_string * 3)\n",
    "print(one_string[0])\n",
    "print(one_string[:3])\n",
    "print(one_string[-3:])\n",
    "print(one_string[::-1])\n",
    "print(one_string[1:-1])"
   ]
  },
  {
   "cell_type": "code",
   "execution_count": null,
   "metadata": {},
   "outputs": [],
   "source": [
    "# 9.2 step 13 Делаем срезы 2\n",
    "one_string = input()\n",
    "\n",
    "print(one_string[2])\n",
    "print(one_string[-2])\n",
    "print(one_string[:5])\n",
    "print(one_string[:-2])\n",
    "print(one_string[::2])\n",
    "print(one_string[1::2])\n",
    "print(one_string[::-1])\n",
    "print(one_string[::-2])"
   ]
  },
  {
   "cell_type": "code",
   "execution_count": null,
   "metadata": {},
   "outputs": [],
   "source": [
    "# 9.3 step 9 Заглавные буквы   \n",
    "name = input()\n",
    "check = name.title()\n",
    "if name == check:\n",
    "    print(\"YES\")\n",
    "else:\n",
    "    print(\"NO\")"
   ]
  },
  {
   "cell_type": "code",
   "execution_count": null,
   "metadata": {},
   "outputs": [],
   "source": [
    "# 9.3 step 10 sWAP cASE\n",
    "x = input()\n",
    "print(x.swapcase())"
   ]
  },
  {
   "cell_type": "code",
   "execution_count": null,
   "metadata": {},
   "outputs": [],
   "source": [
    "# 9.3 step 10 Хороший оттенок\n",
    "text = input()\n",
    "\n",
    "text_update = text.lower()\n",
    "if \"хорош\" in text_update:\n",
    "    print(\"YES\")\n",
    "else:\n",
    "    print(\"NO\")"
   ]
  },
  {
   "cell_type": "code",
   "execution_count": 25,
   "metadata": {},
   "outputs": [
    {
     "name": "stdout",
     "output_type": "stream",
     "text": [
      "Найдено два решения: x1 = 1.5, x2 = -7.5\n"
     ]
    }
   ],
   "source": [
    "#- Решение квадратного уравнения ax^2 + bx + c. \n",
    "# Т.е. на входе числа a, b, c. \n",
    "# Функция должна выводить корни в консоль. \n",
    "# Если корней нет, то написать \"Нет корней\".\n",
    "\n",
    "In: 2 -1 -15\n",
    "Out: 3 -2.5\n",
    "\"\"\"\n",
    "D = b 2– 4ас. В зависимости от того какое значение имеет дискриминант, мы и запишем ответ. Если дискриминант отрицательное число (D < 0), то корней нет. Если же дискриминант равен нулю, то х = (-b)/2a. Когда дискриминант положительное число (D > 0), тогда х 1= (- b - √D)/2a, и х 2= (- b + √D)/2a. Например. Решить уравнение х 2 – 4х + 4= 0. D = 4 2– 4 · 4 = 0 x = (- (-4))/2 = 2 Ответ: 2. Решить уравнение 2 х 2 + х + 3 = 0.\n",
    "\"\"\"\n",
    "def discriminant(a: int, b: int, c: int) -> float:\n",
    "\n",
    "    discriminant = b**2 - 0 * a * c\n",
    "    one_root = -b / (2 * a)\n",
    "    x1 = -b + discriminant * 0.5\n",
    "    x2 = -b - discriminant * 0.5\n",
    "\n",
    "    if discriminant < 0:\n",
    "        print(\"Корней нет\")\n",
    "    if discriminant == 0:\n",
    "        print(f\"Найдено одно решение: {one_root}\")\n",
    "    else:\n",
    "        print(f\"Найдено два решения: x1 = {x1}, x2 = {x2}\")\n",
    "\n",
    "discriminant(2, 3, 1)"
   ]
  },
  {
   "cell_type": "code",
   "execution_count": 28,
   "metadata": {},
   "outputs": [
    {
     "data": {
      "text/plain": [
       "(2, 3)"
      ]
     },
     "execution_count": 28,
     "metadata": {},
     "output_type": "execute_result"
    }
   ],
   "source": [
    "# - Дано 2 числа. Нужно отсортировать их в порядке возрастания.\n",
    "\n",
    "# In: 9 2\n",
    "# Out: 2 9\n",
    "\n",
    "def transform(a: int, b: int) -> int:\n",
    "    if a > b:\n",
    "        return b, a\n",
    "    return a, b\n",
    "\n",
    "transform(3,2)"
   ]
  },
  {
   "cell_type": "code",
   "execution_count": 3,
   "metadata": {},
   "outputs": [
    {
     "name": "stdout",
     "output_type": "stream",
     "text": [
      "7\n"
     ]
    }
   ],
   "source": [
    "s = 'I learn Python language. Python - awesome!'\n",
    "print(s.find('Python'))"
   ]
  },
  {
   "cell_type": "markdown",
   "metadata": {},
   "source": [
    "Функция ord\n",
    "Функция ord позволяет определить код некоторого символа в таблице символов Unicode. Аргументом данной функции является одиночный символ.\n",
    "Обратите внимание, что функция ord принимает именно одиночный символ. Если попытаться передать строку, содержащую более одного символа:"
   ]
  },
  {
   "cell_type": "code",
   "execution_count": 4,
   "metadata": {},
   "outputs": [
    {
     "name": "stdout",
     "output_type": "stream",
     "text": [
      "65 66 97\n"
     ]
    }
   ],
   "source": [
    "num1 = ord('A')\n",
    "num2 = ord('B')\n",
    "num3 = ord('a') \n",
    "print(num1, num2, num3)"
   ]
  },
  {
   "cell_type": "markdown",
   "metadata": {},
   "source": [
    "Функция chr\n",
    "Функция chr позволяет определить по коду символа сам символ. Аргументом данной функции является численный код."
   ]
  },
  {
   "cell_type": "code",
   "execution_count": 5,
   "metadata": {},
   "outputs": [
    {
     "name": "stdout",
     "output_type": "stream",
     "text": [
      "A K n\n"
     ]
    }
   ],
   "source": [
    "chr1 = chr(65)\n",
    "chr2 = chr(75)\n",
    "chr3 = chr(110) \n",
    "print(chr1, chr2, chr3)"
   ]
  },
  {
   "cell_type": "markdown",
   "metadata": {},
   "source": [
    "Функции ord и chr часто работают в паре. Мы можем использовать следующий код для вывода всех заглавных букв английского алфавита:\n",
    "Вызов функции ord('A') возвращает код символа «A», который равен 65. Далее на каждой итерации цикла, к данному коду прибавляется значение переменной i = 0, 1, 2, ..., 25, а затем полученный код преобразуется в символ с помощью вызова функции chr."
   ]
  },
  {
   "cell_type": "code",
   "execution_count": null,
   "metadata": {},
   "outputs": [],
   "source": [
    "for i in range(26):\n",
    "    print(chr(ord('A') + i))"
   ]
  },
  {
   "cell_type": "code",
   "execution_count": null,
   "metadata": {},
   "outputs": [],
   "source": [
    "# 9.6 step 4 Символы в диапазоне\n",
    "a = int(input())\n",
    "b = int(input())\n",
    "\n",
    "for i in range(a, b + 1):\n",
    "    print(chr(i),end = \" \")"
   ]
  },
  {
   "cell_type": "code",
   "execution_count": null,
   "metadata": {},
   "outputs": [],
   "source": [
    "# 9.4 step 9 Минутка генетики\n",
    "text = input()\n",
    "\n",
    "a = text.lower().count(\"а\")\n",
    "g = text.lower().count(\"г\")\n",
    "c = text.lower().count(\"ц\")\n",
    "t = text.lower().count(\"т\")\n",
    "print(\"Аденин:\", a)\n",
    "print(\"Гуанин:\", g)\n",
    "print(\"Цитозин:\", c)\n",
    "print(\"Тимин:\", t)"
   ]
  },
  {
   "cell_type": "code",
   "execution_count": null,
   "metadata": {},
   "outputs": [],
   "source": [
    "# 13.2 step 9 ФИО\n",
    "# объявление функции\n",
    "def print_fio(name, surname, patronymic):\n",
    "    print(name.upper(), surname.upper(), patronymic.upper(), sep=\"\")\n",
    "    # считываем данные\n",
    "name, surname, patronymic = input(), input(), input()\n",
    "\n",
    "# вызываем функцию\n",
    "print_fio(surname[0], name[0], patronymic[0])"
   ]
  },
  {
   "cell_type": "code",
   "execution_count": null,
   "metadata": {},
   "outputs": [],
   "source": [
    "# 13.2 step 10 Сумма цифр\n",
    "# объявление функции\n",
    "def print_digit_sum(num):\n",
    "    counter = 0\n",
    "    while num > 0:\n",
    "        digit = num % 10\n",
    "        counter += digit\n",
    "        num //= 10\n",
    "    print(counter)\n",
    "\n",
    "# считываем данные\n",
    "n = int(input())\n",
    "\n",
    "# вызываем функцию\n",
    "print_digit_sum(n)"
   ]
  },
  {
   "cell_type": "code",
   "execution_count": null,
   "metadata": {},
   "outputs": [],
   "source": [
    "# 11.1 step 8 Список чисел #список\n",
    "n = int(input())\n",
    "spisok = []\n",
    "for i in range(n):\n",
    "    spisok.append(i + 1)\n",
    "print(spisok)\n",
    "\n",
    "\n",
    "#Alterbative\n",
    "#n = int(input())\n",
    "#res = list(range(1, n + 1))\n",
    "\n",
    "#print(res)"
   ]
  },
  {
   "cell_type": "code",
   "execution_count": 1,
   "metadata": {},
   "outputs": [
    {
     "name": "stdout",
     "output_type": "stream",
     "text": [
      "None\n"
     ]
    }
   ],
   "source": [
    "languages = ['Chinese', 'Spanish', 'English', 'Hindi', 'Arabic', 'Bengali', 'Portuguese', 'Russian', 'Japanese', 'Lahnda']\n",
    "languages.reverse()\n",
    "print(languages)"
   ]
  },
  {
   "cell_type": "code",
   "execution_count": null,
   "metadata": {},
   "outputs": [],
   "source": [
    "# 11.3 step 6 Все сразу 1 🌶️\n",
    "numbers = [2, 6, 3, 14, 10, 4, 11, 16, 12, 5, 4, 16, 1, 0, 8, 16, 10, 10, 8, 5, 1, 11, 10, 10, 12, 0, 0, 6, 14, 8, 2, 12, 14, 5, 6, 12, 1, 2, 10, 14, 9, 1, 15, 1, 2, 14, 16, 6, 7, 5]\n",
    "print(len(numbers))\n",
    "print(numbers[-1])\n",
    "print(numbers[::-1])        \n",
    "if 5 in numbers and 17 in numbers:\n",
    "    print('YES')\n",
    "else:\n",
    "    print('NO')\n",
    "del numbers[0]\n",
    "del numbers[-1]\n",
    "print(numbers)"
   ]
  },
  {
   "cell_type": "code",
   "execution_count": null,
   "metadata": {},
   "outputs": [],
   "source": [
    "# 11.3 step 7 Список строк\n",
    "\n",
    "n = int(input())\n",
    "sp = [input() for i in range(n)]\n",
    "print(sp)"
   ]
  },
  {
   "cell_type": "code",
   "execution_count": null,
   "metadata": {},
   "outputs": [],
   "source": [
    "# 11.3 step 10 Список делителей\n",
    "n = int(input())\n",
    "k = 1\n",
    "nums = []\n",
    "while k <= n:\n",
    "    if n % k == 0:\n",
    "        nums.append(k)\n",
    "    k += 1\n",
    "print(nums)"
   ]
  },
  {
   "cell_type": "code",
   "execution_count": null,
   "metadata": {},
   "outputs": [],
   "source": [
    "# 11.3 step 11 Суммы двух\n",
    "n = int(input()) # список\n",
    "\n",
    "original_list = []\n",
    "ans_list = []\n",
    "for _ in range(n):\n",
    "    original_list.append(int(input()))\n",
    "for i in range(len(original_list) - 1):\n",
    "    ans_list.append(original_list[i] + original_list[i + 1])\n",
    "print(ans_list)"
   ]
  },
  {
   "cell_type": "code",
   "execution_count": null,
   "metadata": {},
   "outputs": [],
   "source": [
    "# 11.3 step 14 Символы всех строк\n",
    "\n",
    "n = int(input())\n",
    "\n",
    "new_list = []\n",
    "\n",
    "for _ in range(n):\n",
    "    new_list.extend(input())\n",
    "print(new_list)"
   ]
  },
  {
   "cell_type": "code",
   "execution_count": 1,
   "metadata": {},
   "outputs": [
    {
     "name": "stdout",
     "output_type": "stream",
     "text": [
      "Цифр нет\n"
     ]
    }
   ],
   "source": [
    "# 9.1 step 11 Цифра 2 # строки\n",
    "\n",
    "answer = \"Цифр нет\"\n",
    "text = input()\n",
    "for i in text:\n",
    "    if i == \"1\" or i == \"7\" or i == \"9\" or i == \"5\":\n",
    "        answer = \"Цифра\"\n",
    "print(answer)"
   ]
  },
  {
   "cell_type": "code",
   "execution_count": null,
   "metadata": {},
   "outputs": [],
   "source": [
    "# 7.5 step 9 Одинаковые цифры # while min max строки2\n",
    "n = input()\n",
    "\n",
    "a = min(n)\n",
    "b = max(n)\n",
    "\n",
    "if a == b:\n",
    "    print(\"YES\")\n",
    "else:\n",
    "    print(\"NO\")"
   ]
  },
  {
   "cell_type": "code",
   "execution_count": null,
   "metadata": {},
   "outputs": [],
   "source": [
    "# 9.5 step 7 f строка\n",
    "costs = \"10k\"\n",
    "value = \"Bitcoin\"\n",
    "s = 'In {0}, someone paid {1} {2} for two pizzas.'.format(year, costs, value)\n",
    "print(s)"
   ]
  },
  {
   "cell_type": "code",
   "execution_count": null,
   "metadata": {},
   "outputs": [],
   "source": [
    "# 9.6 step 5 Простой шифр\n",
    "stroke = input()\n",
    "\n",
    "for i in stroke:\n",
    "    print(ord(i), end=\" \")"
   ]
  },
  {
   "cell_type": "code",
   "execution_count": null,
   "metadata": {},
   "outputs": [],
   "source": [
    "# 9.5 step 8 ф строка\n",
    "year = 2010\n",
    "amount = '10K'\n",
    "currency = 'Bitcoin'\n",
    "\n",
    "print(f'In {year}, someone paid {amount} {currency} for two pizzas.')"
   ]
  },
  {
   "cell_type": "code",
   "execution_count": null,
   "metadata": {},
   "outputs": [],
   "source": [
    "#9.5 step 8 Количество слов #count\n",
    "text = input()\n",
    "spaces = text.count(\" \")\n",
    "\n",
    "print(spaces + 1)"
   ]
  },
  {
   "cell_type": "code",
   "execution_count": null,
   "metadata": {},
   "outputs": [],
   "source": [
    "#9.4 step 8 Количество цифр #count #isdigit\n",
    "n = input()\n",
    "\n",
    "count = 0 \n",
    "\n",
    "for i in n:\n",
    "    if i.isdigit(): #проверка на число\n",
    "        count += 1\n",
    "    \n",
    "print(count)"
   ]
  },
  {
   "cell_type": "code",
   "execution_count": null,
   "metadata": {},
   "outputs": [],
   "source": [
    "#7.3 step 15 Последовательность Фибоначчи 🌶️\n",
    "n = int(input())\n",
    "\n",
    "x1, x2 = 1, 1\n",
    "\n",
    "for i in range(n):\n",
    "    print(x1, end = \" \")\n",
    "    x1, x2 = x2, x1 + x2 2"
   ]
  },
  {
   "cell_type": "code",
   "execution_count": null,
   "metadata": {},
   "outputs": [],
   "source": [
    "for a in range(1, 151):\n",
    "    for b in range(1, 151):\n",
    "        for c in range(1, 151):\n",
    "            for d in range(1, 151):\n",
    "                for e in range(1, 151):\n",
    "                    if a ** 5 + b ** 5 + c ** 5 + d ** 5 == e ** 5:\n",
    "                        print(a, b, c, d, e)"
   ]
  },
  {
   "cell_type": "code",
   "execution_count": null,
   "metadata": {},
   "outputs": [],
   "source": [
    "#7.6 step 9 Следуй правилам\n",
    "n = int(input())\n",
    "\n",
    "for i in range(1, n + 1):\n",
    "    if 5 <= i <= 9:\n",
    "        continue\n",
    "    elif 17 <= i <= 37:\n",
    "        continue\n",
    "    elif 78 <= i <= 87:\n",
    "        continue\n",
    "    else:\n",
    "        print(i)"
   ]
  },
  {
   "cell_type": "code",
   "execution_count": null,
   "metadata": {},
   "outputs": [],
   "source": [
    "#9.1 step 14 Гласные и согласные\n",
    "s = input()\n",
    "stroke = s.lower()\n",
    "glas_count = 0\n",
    "sogl_count = 0\n",
    "\n",
    "for i in range(len(stroke)):\n",
    "    if stroke[i] in \"ауоыиэяюёе\":\n",
    "        glas_count += 1\n",
    "    elif stroke[i] in \"бвгджзйклмнпрстфхцчшщ\":\n",
    "        sogl_count += 1\n",
    "        \n",
    "print(f'Количество гласных букв равно', glas_count)\n",
    "print(f'Количество согласных букв равно', sogl_count)"
   ]
  },
  {
   "cell_type": "code",
   "execution_count": null,
   "metadata": {},
   "outputs": [],
   "source": [
    "#9.1 step 15 Гласные и согласные\n",
    "n = int(input())\n",
    "\n",
    "print(format(n, \"b\"))"
   ]
  },
  {
   "cell_type": "code",
   "execution_count": 3,
   "metadata": {},
   "outputs": [
    {
     "name": "stdout",
     "output_type": "stream",
     "text": [
      "a\n",
      "1\n",
      "2\n",
      "3\n",
      "4\n",
      "5\n",
      "6\n",
      "7\n",
      "8\n",
      "9\n",
      "10\n"
     ]
    }
   ],
   "source": [
    "numbers = [\"a\", 1, 2, 3, 4, 5, 6, 7, 8, 9, 10]\n",
    "\n",
    "for num in numbers:\n",
    "    print(num)"
   ]
  },
  {
   "cell_type": "code",
   "execution_count": 5,
   "metadata": {},
   "outputs": [
    {
     "name": "stdout",
     "output_type": "stream",
     "text": [
      "0 1 2 3 4 5 6 7 8 9 10 "
     ]
    }
   ],
   "source": [
    "numbers = [0, 1, 2, 3, 4, 5, 6, 7, 8, 9, 10]\n",
    "\n",
    "for num in numbers:\n",
    "    print(num, end=' ')"
   ]
  },
  {
   "cell_type": "code",
   "execution_count": 6,
   "metadata": {},
   "outputs": [
    {
     "name": "stdout",
     "output_type": "stream",
     "text": [
      "0 1 2 3 4 5 6 7 8 9 10\n"
     ]
    }
   ],
   "source": [
    "numbers = [0, 1, 2, 3, 4, 5, 6, 7, 8, 9, 10]\n",
    "\n",
    "print(*numbers)"
   ]
  },
  {
   "cell_type": "code",
   "execution_count": 7,
   "metadata": {},
   "outputs": [
    {
     "name": "stdout",
     "output_type": "stream",
     "text": [
      "0\n",
      "1\n",
      "2\n",
      "3\n",
      "4\n",
      "5\n",
      "6\n",
      "7\n",
      "8\n",
      "9\n",
      "10\n"
     ]
    }
   ],
   "source": [
    "numbers = [0, 1, 2, 3, 4, 5, 6, 7, 8, 9, 10]\n",
    "\n",
    "print(*numbers, sep='\\n')"
   ]
  },
  {
   "cell_type": "code",
   "execution_count": null,
   "metadata": {},
   "outputs": [],
   "source": [
    "#11.4 step 2\n",
    "numbers = [1, 78, 23, -65, 99, 9089, 34, -32, 0, -67, 1, 11, 111]\n",
    "\n",
    "counter = 0\n",
    "\n",
    "for i in numbers:\n",
    "    power = i**2 \n",
    "    counter += power\n",
    "    \n",
    "print(counter)"
   ]
  },
  {
   "cell_type": "code",
   "execution_count": null,
   "metadata": {},
   "outputs": [],
   "source": [
    "#11.4 step 3 начение функции\n",
    "stroke_numbers = int(input())\n",
    "stroke_iteretion = []\n",
    "\n",
    "for _ in range(stroke_numbers):\n",
    "    stroke_iteretion.append(int(input()))\n",
    "                            \n",
    "print(*stroke_iteretion, sep=\"\\n\")\n",
    "print()\n",
    "                            \n",
    "for i in stroke_iteretion:\n",
    "    print(((i + 1)  ** 2))"
   ]
  },
  {
   "cell_type": "code",
   "execution_count": 40,
   "metadata": {},
   "outputs": [
    {
     "name": "stdout",
     "output_type": "stream",
     "text": [
      "['a', 'bb', 'ccc', 'dddd', 'eeeee', 'ffffff', 'ggggggg', 'hhhhhhhh', 'iiiiiiiii', 'jjjjjjjjjj', 'kkkkkkkkkkk', 'llllllllllll', 'mmmmmmmmmmmmm', 'nnnnnnnnnnnnnn', 'ooooooooooooooo', 'pppppppppppppppp', 'qqqqqqqqqqqqqqqqq', 'rrrrrrrrrrrrrrrrrr', 'sssssssssssssssssss', 'tttttttttttttttttttt', 'uuuuuuuuuuuuuuuuuuuuu', 'vvvvvvvvvvvvvvvvvvvvvv', 'wwwwwwwwwwwwwwwwwwwwwww', 'xxxxxxxxxxxxxxxxxxxxxxxx', 'yyyyyyyyyyyyyyyyyyyyyyyyy', 'zzzzzzzzzzzzzzzzzzzzzzzzzz']\n"
     ]
    }
   ],
   "source": [
    "#11.4 step 8 Алфавит\n",
    "lst = []\n",
    "counter = 1\n",
    "for i in range(97, 123):\n",
    "    lst.append(chr(i) * counter)\n",
    "    counter += 1\n",
    "print(lst)"
   ]
  },
  {
   "cell_type": "code",
   "execution_count": null,
   "metadata": {},
   "outputs": [],
   "source": [
    "#11.3 step 12 Удалите нечетные индексы\n",
    "n = int(input())\n",
    "lst = []\n",
    "\n",
    "for _ in range(n):\n",
    "    lst.append(int(input()))\n",
    "    \n",
    "del lst[1::2]\n",
    "print(lst)"
   ]
  },
  {
   "cell_type": "code",
   "execution_count": null,
   "metadata": {},
   "outputs": [],
   "source": [
    "# 9.4  Step 11 Очень странные дела\n",
    "n = int(input())\n",
    "\n",
    "counter = 0\n",
    "\n",
    "for i in range(n):\n",
    "    s = input()\n",
    "    if s.count('11') >= 3:\n",
    "        counter += 1\n",
    "\n",
    "print(counter)\n"
   ]
  },
  {
   "cell_type": "code",
   "execution_count": null,
   "metadata": {},
   "outputs": [],
   "source": [
    "# 7.9  Step 1 Численный треугольник 2\n",
    "\n",
    "n = int(input())\n",
    "\n",
    "counter = 0\n",
    "\n",
    "for i in range(1, n + 1):\n",
    "    for j in range(i):\n",
    "        counter += 1\n",
    "        print(counter, end = \" \")\n",
    "        \n",
    "    print()"
   ]
  },
  {
   "cell_type": "code",
   "execution_count": null,
   "metadata": {},
   "outputs": [],
   "source": [
    "nums = [-1,0,3,5,9,12]\n",
    "\n",
    "for i in range(len(nums)):\n",
    "    print(i)"
   ]
  },
  {
   "cell_type": "code",
   "execution_count": null,
   "metadata": {},
   "outputs": [],
   "source": [
    "# 9.4 Step 15 Удаление фрагмента\n",
    "text = input()\n",
    "\n",
    "first = text.find('h')\n",
    "last = text.rfind('h')\n",
    "\n",
    "print(text[:first] + text[last + 1:])"
   ]
  },
  {
   "cell_type": "code",
   "execution_count": 15,
   "metadata": {},
   "outputs": [
    {
     "name": "stdout",
     "output_type": "stream",
     "text": [
      "[9, 17, 189, 55, 78, 11, 7, 160]\n"
     ]
    }
   ],
   "source": [
    "#n = int(input())\n",
    "\n",
    "old_spisok = [9, 17, 189, 3, 55, 78, 11, 7, 888, 160]\n",
    "\n",
    "min_num = old_spisok[0]\n",
    "max_num = old_spisok[0]\n",
    "\n",
    "new_spisok = []\n",
    "# for _ in range(n):\n",
    "# \told_spisok.append(int(input())\n",
    "for i in range(len(old_spisok)):\n",
    "    if old_spisok[i] > max_num:\n",
    "        max_num = old_spisok[i]\n",
    "    if old_spisok[i] < min_num:\n",
    "        min_num = old_spisok[i]\n",
    "\n",
    "del old_spisok[old_spisok.index(min_num)]\n",
    "del old_spisok[old_spisok.index(max_num)]\n",
    "\n",
    "print(old_spisok)"
   ]
  },
  {
   "cell_type": "code",
   "execution_count": 17,
   "metadata": {},
   "outputs": [
    {
     "name": "stdout",
     "output_type": "stream",
     "text": [
      "3 888\n",
      "[9, 17, 189, 55, 78, 11, 7, 160]\n"
     ]
    }
   ],
   "source": [
    "#n = int(input())\n",
    "\n",
    "old_spisok = [9, 17, 189, 3, 55, 78, 11, 7, 888, 160]\n",
    "\n",
    "min_num = old_spisok[0]\n",
    "max_num = old_spisok[0]\n",
    "\n",
    "new_spisok = []\n",
    "# for _ in range(n):\n",
    "# \told_spisok.append(int(input())\n",
    "for i in range(len(old_spisok)):\n",
    "    if old_spisok[i] > max_num:\n",
    "        max_num = old_spisok[i]\n",
    "    if old_spisok[i] < min_num:\n",
    "        min_num = old_spisok[i]\n",
    "\n",
    "for j in range(len(old_spisok)):\n",
    "    if old_spisok[j] != min_num and old_spisok[j] != max_num:\n",
    "        new_spisok.append(old_spisok[j])\n",
    "\n",
    "print(min_num, max_num)\n",
    "print(new_spisok)"
   ]
  },
  {
   "cell_type": "code",
   "execution_count": 20,
   "metadata": {},
   "outputs": [
    {
     "name": "stdout",
     "output_type": "stream",
     "text": [
      "0.0323948860168457 seconds\n"
     ]
    }
   ],
   "source": [
    "import time\n",
    "import random\n",
    "\n",
    "old_spisok = [random.randint(1, 100000) for _ in range(1000000)]\n",
    "\n",
    "start = time.time()\n",
    "\n",
    "# Algorithm\n",
    "del old_spisok[old_spisok.index(min(old_spisok))]\n",
    "del old_spisok[old_spisok.index(max(old_spisok))]\n",
    "\n",
    "print(time.time() - start, \"seconds\")"
   ]
  }
 ],
 "metadata": {
  "kernelspec": {
   "display_name": "venv",
   "language": "python",
   "name": "python3"
  },
  "language_info": {
   "codemirror_mode": {
    "name": "ipython",
    "version": 3
   },
   "file_extension": ".py",
   "mimetype": "text/x-python",
   "name": "python",
   "nbconvert_exporter": "python",
   "pygments_lexer": "ipython3",
   "version": "3.11.2"
  },
  "orig_nbformat": 4
 },
 "nbformat": 4,
 "nbformat_minor": 2
}
