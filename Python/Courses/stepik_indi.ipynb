{
 "cells": [
  {
   "cell_type": "code",
   "execution_count": 8,
   "metadata": {},
   "outputs": [
    {
     "name": "stdout",
     "output_type": "stream",
     "text": [
      "61.95\n"
     ]
    }
   ],
   "source": [
    "# 6.10 step 11 Множества\n",
    "my_list = [56, 59, 53, 75, 62, 61, 75, 65, 59, 62, 64, 53,\n",
    "           54, 62, 69, 53, 55, 62, 54, 66, 55, 57, 58, 75,\n",
    "           72, 55, 51, 56, 71, 66, 57, 56, 59, 73, 68, 57,\n",
    "           50, 54, 62, 68, 59, 64, 59, 59, 71, 68, 57, 54, 53, 72]\n",
    "\n",
    "my_set = set(my_list)\n",
    "print(sum(my_set) / len(my_set))\n"
   ]
  },
  {
   "cell_type": "code",
   "execution_count": 9,
   "metadata": {},
   "outputs": [
    {
     "name": "stdout",
     "output_type": "stream",
     "text": [
      "IGNORE HIM!\n"
     ]
    }
   ],
   "source": [
    "# 6.10 step 12 Множества \n",
    "s = input()\n",
    "my_set = set(s)\n",
    "\n",
    "if len(my_set) % 2 == 0:\n",
    "    print('CHAT WITH HER!')\n",
    "else:\n",
    "    print('IGNORE HIM!')\n"
   ]
  },
  {
   "cell_type": "code",
   "execution_count": 10,
   "metadata": {},
   "outputs": [
    {
     "name": "stdout",
     "output_type": "stream",
     "text": [
      "0\n"
     ]
    }
   ],
   "source": [
    "# 6.10 step 13 Не смешите мои подковы\n",
    "text = input().split()\n",
    "a = set(text)\n",
    "print(len(text) - len(a))"
   ]
  },
  {
   "cell_type": "code",
   "execution_count": 11,
   "metadata": {},
   "outputs": [
    {
     "name": "stdout",
     "output_type": "stream",
     "text": [
      "NO\n"
     ]
    }
   ],
   "source": [
    "# 6.10 step 14 панграмма\n",
    "# получаем строку # меняем регистр\n",
    "text = input().lower()\n",
    "# преобразуем в множество\n",
    "pangramma = set(text)\n",
    "# считаем количество букв, если оно == 26, это панграмма\n",
    "if len(pangramma) == 26:\n",
    "    print('YES')\n",
    "else:\n",
    "    print('NO')\n"
   ]
  },
  {
   "cell_type": "code",
   "execution_count": 12,
   "metadata": {},
   "outputs": [
    {
     "ename": "TypeError",
     "evalue": "unhashable type: 'set'",
     "output_type": "error",
     "traceback": [
      "\u001b[0;31m---------------------------------------------------------------------------\u001b[0m",
      "\u001b[0;31mTypeError\u001b[0m                                 Traceback (most recent call last)",
      "\u001b[1;32m/home/valdevay/Documents/git/python-vladimirkireev/Python/Courses/stepik_indi.ipynb Cell 5\u001b[0m line \u001b[0;36m1\n\u001b[0;32m----> <a href='vscode-notebook-cell:/home/valdevay/Documents/git/python-vladimirkireev/Python/Courses/stepik_indi.ipynb#W4sZmlsZQ%3D%3D?line=0'>1</a>\u001b[0m mnojestvo \u001b[39m=\u001b[39m {a, a, a, a, a, a, a, a, a, a, a, a, a, a, a, a, a, a, a, a, a, a, a, a, a, a, a, a, a, a, a, a, a, a, a, a, a, a, a, a, a, a, a, a, a, a, a, a, a, a, a, a, a, a, a, a, a, a, a, a, a, a, a, a, a, a, a, a, a, a, a, a, a, a, a, a, a, a, a, a, a, a, a, a, a, a, a, a, a, a, a, a, a, a, a, a, a, a, a, a}\n\u001b[1;32m      <a href='vscode-notebook-cell:/home/valdevay/Documents/git/python-vladimirkireev/Python/Courses/stepik_indi.ipynb#W4sZmlsZQ%3D%3D?line=2'>3</a>\u001b[0m lst \u001b[39m=\u001b[39m []\n\u001b[1;32m      <a href='vscode-notebook-cell:/home/valdevay/Documents/git/python-vladimirkireev/Python/Courses/stepik_indi.ipynb#W4sZmlsZQ%3D%3D?line=4'>5</a>\u001b[0m \u001b[39mprint\u001b[39m(\u001b[39mlen\u001b[39m(mnojestvo))\n",
      "\u001b[0;31mTypeError\u001b[0m: unhashable type: 'set'"
     ]
    }
   ],
   "source": [
    "mnojestvo = {a, a, a, a, a, a, a, a, a, a, a, a, a, a, a, a, a, a, a, a, a, a, a, a, a, a, a, a, a, a, a, a, a, a, a, a, a, a, a, a, a, a, a, a, a, a, a, a, a, a, a, a, a, a, a, a, a, a, a, a, a, a, a, a, a, a, a, a, a, a, a, a, a, a, a, a, a, a, a, a, a, a, a, a, a, a, a, a, a, a, a, a, a, a, a, a, a, a, a, a}\n",
    "\n",
    "lst = []\n",
    "\n",
    "print(len(mnojestvo))\n",
    "\n",
    "for i in range(len(mnojestvo)):\n",
    "    #if i.isalpha():\n",
    "    #    lst.append(i)\n",
    "    print(i)\n",
    "\n",
    "print(lst)\n",
    "#print(len(set((mnojestvo))))\n"
   ]
  },
  {
   "cell_type": "code",
   "execution_count": null,
   "metadata": {},
   "outputs": [
    {
     "name": "stdout",
     "output_type": "stream",
     "text": [
      "B**E**E**G**E**E**K\n"
     ]
    }
   ],
   "source": [
    "s = 'BEEGEEK'\n",
    "chars = list(s)\n",
    "s = '**'.join(chars)\n",
    "print(s)"
   ]
  },
  {
   "cell_type": "code",
   "execution_count": null,
   "metadata": {},
   "outputs": [
    {
     "data": {
      "text/plain": [
       "24001875"
      ]
     },
     "execution_count": 1,
     "metadata": {},
     "output_type": "execute_result"
    }
   ],
   "source": [
    "ans = 0\n",
    "for i in range(50, 101):\n",
    "    ans += i**3\n",
    "\n",
    "ans"
   ]
  },
  {
   "cell_type": "code",
   "execution_count": 17,
   "metadata": {},
   "outputs": [
    {
     "name": "stdout",
     "output_type": "stream",
     "text": [
      "3\n"
     ]
    }
   ],
   "source": [
    "def get_factors(num):\n",
    "    counter = 0\n",
    "    for i in range(1, num // 2 + 1):\n",
    "        if num % i == 0:\n",
    "            counter += 1\n",
    "\n",
    "    return counter\n",
    "\n",
    "# считываем данные\n",
    "# вызываем функцию\n",
    "print(get_factors(10))"
   ]
  },
  {
   "cell_type": "code",
   "execution_count": 18,
   "metadata": {},
   "outputs": [
    {
     "name": "stdout",
     "output_type": "stream",
     "text": [
      "None\n"
     ]
    }
   ],
   "source": [
    "def find_all(target, symbol):\n",
    "    spisok = []\n",
    "    for i in range(len(target)):\n",
    "        if symbol == target[i]:\n",
    "            spisok.append(i)\n",
    "\n",
    "# считываем данные\n",
    "\n",
    "# вызываем функцию\n",
    "print(find_all('abcdabcaaa', 'a'))"
   ]
  },
  {
   "cell_type": "code",
   "execution_count": 26,
   "metadata": {},
   "outputs": [
    {
     "name": "stdout",
     "output_type": "stream",
     "text": [
      "[1, 5, 6, 7, 10, 13, 16, 20]\n"
     ]
    }
   ],
   "source": [
    "\n",
    "def merge(list1, list2):\n",
    "\n",
    "    list1.extend(list2)\n",
    "    list1.sort()\n",
    "    \n",
    "    return list1\n",
    "\n",
    "print(merge([1, 7, 10, 16], [5, 6, 13, 20]))"
   ]
  }
 ],
 "metadata": {
  "kernelspec": {
   "display_name": "venv",
   "language": "python",
   "name": "python3"
  },
  "language_info": {
   "codemirror_mode": {
    "name": "ipython",
    "version": 3
   },
   "file_extension": ".py",
   "mimetype": "text/x-python",
   "name": "python",
   "nbconvert_exporter": "python",
   "pygments_lexer": "ipython3",
   "version": "3.11.2"
  }
 },
 "nbformat": 4,
 "nbformat_minor": 2
}
